{
 "cells": [
  {
   "cell_type": "markdown",
   "metadata": {
    "papermill": {
     "duration": null,
     "end_time": null,
     "exception": null,
     "start_time": null,
     "status": "pending"
    },
    "tags": []
   },
   "source": []
  },
  {
   "cell_type": "code",
   "execution_count": 1,
   "metadata": {
    "_cell_guid": "b1076dfc-b9ad-4769-8c92-a6c4dae69d19",
    "_uuid": "8f2839f25d086af736a60e9eeb907d3b93b6e0e5",
    "execution": {
     "iopub.execute_input": "2021-06-15T23:21:44.690660Z",
     "iopub.status.busy": "2021-06-15T23:21:44.689940Z",
     "iopub.status.idle": "2021-06-15T23:21:44.695464Z",
     "shell.execute_reply": "2021-06-15T23:21:44.694223Z",
     "shell.execute_reply.started": "2021-06-15T23:21:44.690622Z"
    },
    "papermill": {
     "duration": null,
     "end_time": null,
     "exception": null,
     "start_time": null,
     "status": "pending"
    },
    "tags": []
   },
   "outputs": [],
   "source": [
    "import numpy as np\n",
    "from numpy import cov, std"
   ]
  },
  {
   "cell_type": "markdown",
   "metadata": {
    "papermill": {
     "duration": null,
     "end_time": null,
     "exception": null,
     "start_time": null,
     "status": "pending"
    },
    "tags": []
   },
   "source": [
    "Opening the dataset with UTF-8 encoding and separating the titles from the data (since the python python pointer moves forward while reading data)"
   ]
  },
  {
   "cell_type": "code",
   "execution_count": 2,
   "metadata": {
    "execution": {
     "iopub.execute_input": "2021-06-15T23:21:44.698203Z",
     "iopub.status.busy": "2021-06-15T23:21:44.697688Z",
     "iopub.status.idle": "2021-06-15T23:21:44.718429Z",
     "shell.execute_reply": "2021-06-15T23:21:44.717255Z",
     "shell.execute_reply.started": "2021-06-15T23:21:44.698153Z"
    },
    "papermill": {
     "duration": null,
     "end_time": null,
     "exception": null,
     "start_time": null,
     "status": "pending"
    },
    "tags": []
   },
   "outputs": [],
   "source": [
    "f = open('geekmate-data/dataset', 'rt', encoding='utf-8-sig')\n",
    "titles = f.readline()\n",
    "raw_data = f.readlines()"
   ]
  },
  {
   "cell_type": "markdown",
   "metadata": {
    "papermill": {
     "duration": null,
     "end_time": null,
     "exception": null,
     "start_time": null,
     "status": "pending"
    },
    "tags": []
   },
   "source": [
    "Creating dictionary mapping titles to indices and vice versa for later. Since, the `titles` string consists of `\\n` at the end, we re disposing it first and then splitting it into individual titles."
   ]
  },
  {
   "cell_type": "code",
   "execution_count": 3,
   "metadata": {
    "execution": {
     "iopub.execute_input": "2021-06-15T23:21:44.722869Z",
     "iopub.status.busy": "2021-06-15T23:21:44.722420Z",
     "iopub.status.idle": "2021-06-15T23:21:44.728143Z",
     "shell.execute_reply": "2021-06-15T23:21:44.727390Z",
     "shell.execute_reply.started": "2021-06-15T23:21:44.722818Z"
    },
    "papermill": {
     "duration": null,
     "end_time": null,
     "exception": null,
     "start_time": null,
     "status": "pending"
    },
    "tags": []
   },
   "outputs": [],
   "source": [
    "titles = titles.split('\\n')[0].split(',')\n",
    "title_to_ind = {title:index for index,title in enumerate(titles)}\n",
    "ind_to_title = {index:title for title,index in title_to_ind.items()}"
   ]
  },
  {
   "cell_type": "markdown",
   "metadata": {
    "papermill": {
     "duration": null,
     "end_time": null,
     "exception": null,
     "start_time": null,
     "status": "pending"
    },
    "tags": []
   },
   "source": [
    "Here, we are first creating a nested list of all data elements by going through every row, removing `\\n` and spliting the row into col volues. Then, we feed the nested list to the `numpy.asarray()` for faster computations hereon."
   ]
  },
  {
   "cell_type": "code",
   "execution_count": 4,
   "metadata": {
    "execution": {
     "iopub.execute_input": "2021-06-15T23:21:44.729984Z",
     "iopub.status.busy": "2021-06-15T23:21:44.729504Z",
     "iopub.status.idle": "2021-06-15T23:21:44.829310Z",
     "shell.execute_reply": "2021-06-15T23:21:44.827887Z",
     "shell.execute_reply.started": "2021-06-15T23:21:44.729953Z"
    },
    "papermill": {
     "duration": null,
     "end_time": null,
     "exception": null,
     "start_time": null,
     "status": "pending"
    },
    "tags": []
   },
   "outputs": [
    {
     "name": "stdout",
     "output_type": "stream",
     "text": [
      "Number of examples in dataset: 10999\n",
      "NUmber of columns in dataset:  12\n",
      "Title Names: ['TransactionID', 'Warehouse_block', 'Mode_of_Shipment', 'Customer_care_calls', 'Customer_rating', 'Cost_of_the_Product', 'Prior_purchases', 'Product_importance', 'Gender', 'Discount_offered_in_pct', 'Weight_in_gms', 'Reached_on_Time']\n"
     ]
    }
   ],
   "source": [
    "data = np.asarray([[int(col) for col in row.split('\\n')[0].split(',')] for row in raw_data])\n",
    "print('Number of examples in dataset:', data.shape[0])\n",
    "print('NUmber of columns in dataset: ', data.shape[1])\n",
    "print('Title Names:', titles)"
   ]
  },
  {
   "cell_type": "markdown",
   "metadata": {
    "papermill": {
     "duration": null,
     "end_time": null,
     "exception": null,
     "start_time": null,
     "status": "pending"
    },
    "tags": []
   },
   "source": [
    "All options consist of results which can be fully/partially pre-computed, so as to display quickly to the user"
   ]
  },
  {
   "cell_type": "code",
   "execution_count": 5,
   "metadata": {
    "execution": {
     "iopub.execute_input": "2021-06-15T23:21:44.833597Z",
     "iopub.status.busy": "2021-06-15T23:21:44.833079Z",
     "iopub.status.idle": "2021-06-15T23:21:44.946389Z",
     "shell.execute_reply": "2021-06-15T23:21:44.944693Z",
     "shell.execute_reply.started": "2021-06-15T23:21:44.833545Z"
    },
    "papermill": {
     "duration": null,
     "end_time": null,
     "exception": null,
     "start_time": null,
     "status": "pending"
    },
    "tags": []
   },
   "outputs": [],
   "source": [
    "num_features = len(titles)\n",
    "\n",
    "#Calculating the coorelation matrix (For Option 1)\n",
    "corr_matrix = np.empty([num_features, num_features])\n",
    "\n",
    "for i in range(num_features):\n",
    "    for j in range(num_features):\n",
    "        X = data[:, i]\n",
    "        Y = data[:, j]\n",
    "        #Since, we are only concerned with the corr of X with Y we take the corr[0,1] element\n",
    "        corr_matrix[i,j] = round((cov(X, Y)/(std(X) * std(Y)))[0][1], 3)\n",
    "        \n",
    "\n",
    "#Calculating the dataset examples splits for each warehouse block number (For option 2)\n",
    "sorted_data = data[data[:,1].argsort()]\n",
    "splits = np.split(sorted_data[:,0]-1, np.unique(sorted_data[:,1], return_index=True)[1][1:])\n",
    "splits = {ind+1:split for ind,split in enumerate(splits)}\n",
    "\n",
    "\n",
    "#Calculate the orders with least cost/weight ratio (For option 3)\n",
    "my_func = lambda x: np.round(x[:, title_to_ind['Cost_of_the_Product']]/x[:, title_to_ind['Weight_in_gms']], 6)\n",
    "ratio = my_func(data)\n",
    "ratio_col = np.reshape(ratio, (ratio.shape[0],1))\n",
    "\n",
    "#Appending the new feature to the dataset and title dict\n",
    "feature_name = 'Cost/Weight Ratio - in US$/g'\n",
    "title_to_ind[feature_name] = 12\n",
    "ind_to_title[12] = feature_name\n",
    "\n",
    "new_data = np.append(data.astype('object'), ratio_col, axis=1)\n",
    "\n",
    "#Find the 30 orders with least ratio\n",
    "least_ratio_data = new_data[new_data[:, title_to_ind[feature_name]].argsort()][:31]"
   ]
  },
  {
   "cell_type": "markdown",
   "metadata": {
    "papermill": {
     "duration": null,
     "end_time": null,
     "exception": null,
     "start_time": null,
     "status": "pending"
    },
    "tags": []
   },
   "source": [
    "`corr_matrix` now consists of the Pearson's Correlation coefficient of each feature with each other"
   ]
  },
  {
   "cell_type": "code",
   "execution_count": 6,
   "metadata": {
    "execution": {
     "iopub.execute_input": "2021-06-15T23:21:44.949590Z",
     "iopub.status.busy": "2021-06-15T23:21:44.948977Z",
     "iopub.status.idle": "2021-06-15T23:21:44.960118Z",
     "shell.execute_reply": "2021-06-15T23:21:44.958891Z",
     "shell.execute_reply.started": "2021-06-15T23:21:44.949537Z"
    },
    "papermill": {
     "duration": null,
     "end_time": null,
     "exception": null,
     "start_time": null,
     "status": "pending"
    },
    "tags": []
   },
   "outputs": [
    {
     "name": "stdout",
     "output_type": "stream",
     "text": [
      "[[ 1.     0.    -0.002  0.189 -0.006  0.197  0.145 -0.056  0.002 -0.598\n",
      "   0.278 -0.412]\n",
      " [ 0.     1.     0.001  0.014  0.01  -0.007 -0.005 -0.002  0.004  0.01\n",
      "   0.004  0.005]\n",
      " [-0.002  0.001  1.    -0.02   0.002  0.007 -0.002 -0.01   0.011  0.009\n",
      "  -0.001 -0.001]\n",
      " [ 0.189  0.014 -0.02   1.     0.012  0.323  0.181 -0.058 -0.003 -0.131\n",
      "  -0.277 -0.067]\n",
      " [-0.006  0.01   0.002  0.012  1.     0.009  0.013  0.004 -0.003 -0.003\n",
      "  -0.002  0.013]\n",
      " [ 0.197 -0.007  0.007  0.323  0.009  1.     0.124 -0.047 -0.02  -0.138\n",
      "  -0.133 -0.074]\n",
      " [ 0.145 -0.005 -0.002  0.181  0.013  0.124  1.     0.027  0.009 -0.083\n",
      "  -0.168 -0.056]\n",
      " [-0.056 -0.002 -0.01  -0.058  0.004 -0.047  0.027  1.     0.003  0.026\n",
      "   0.093  0.021]\n",
      " [ 0.002  0.004  0.011 -0.003 -0.003 -0.02   0.009  0.003  1.     0.012\n",
      "  -0.004 -0.005]\n",
      " [-0.598  0.01   0.009 -0.131 -0.003 -0.138 -0.083  0.026  0.012  1.\n",
      "  -0.376  0.397]\n",
      " [ 0.278  0.004 -0.001 -0.277 -0.002 -0.133 -0.168  0.093 -0.004 -0.376\n",
      "   1.    -0.269]\n",
      " [-0.412  0.005 -0.001 -0.067  0.013 -0.074 -0.056  0.021 -0.005  0.397\n",
      "  -0.269  1.   ]]\n"
     ]
    }
   ],
   "source": [
    "print(corr_matrix)"
   ]
  },
  {
   "cell_type": "markdown",
   "metadata": {
    "papermill": {
     "duration": null,
     "end_time": null,
     "exception": null,
     "start_time": null,
     "status": "pending"
    },
    "tags": []
   },
   "source": [
    "`splits` dict now maps each block number with the dataset example indices having the respective block number"
   ]
  },
  {
   "cell_type": "code",
   "execution_count": 7,
   "metadata": {
    "execution": {
     "iopub.execute_input": "2021-06-15T23:21:44.962466Z",
     "iopub.status.busy": "2021-06-15T23:21:44.961816Z",
     "iopub.status.idle": "2021-06-15T23:21:44.979414Z",
     "shell.execute_reply": "2021-06-15T23:21:44.977803Z",
     "shell.execute_reply.started": "2021-06-15T23:21:44.962417Z"
    },
    "papermill": {
     "duration": null,
     "end_time": null,
     "exception": null,
     "start_time": null,
     "status": "pending"
    },
    "tags": []
   },
   "outputs": [
    {
     "data": {
      "text/plain": [
       "{1: array([ 6284,  7838,  4214, ...,   140,  5180, 10880]),\n",
       " 2: array([2859, 3495, 6051, ..., 8961, 9267, 2769]),\n",
       " 3: array([5056, 4954, 2572, ..., 3316, 4234, 4228]),\n",
       " 4: array([10938, 10986, 10992, ...,  5856,  6060,  5706]),\n",
       " 5: array([9769, 1699, 1639, ..., 3373, 8455, 8641])}"
      ]
     },
     "execution_count": 7,
     "metadata": {},
     "output_type": "execute_result"
    }
   ],
   "source": [
    "splits"
   ]
  },
  {
   "cell_type": "markdown",
   "metadata": {
    "papermill": {
     "duration": null,
     "end_time": null,
     "exception": null,
     "start_time": null,
     "status": "pending"
    },
    "tags": []
   },
   "source": [
    "`least_ratio_data` contains the 30 orders with the least cost by weight ratio"
   ]
  },
  {
   "cell_type": "code",
   "execution_count": 8,
   "metadata": {
    "execution": {
     "iopub.execute_input": "2021-06-15T23:21:44.981683Z",
     "iopub.status.busy": "2021-06-15T23:21:44.981015Z",
     "iopub.status.idle": "2021-06-15T23:21:44.995750Z",
     "shell.execute_reply": "2021-06-15T23:21:44.993531Z",
     "shell.execute_reply.started": "2021-06-15T23:21:44.981632Z"
    },
    "papermill": {
     "duration": null,
     "end_time": null,
     "exception": null,
     "start_time": null,
     "status": "pending"
    },
    "tags": []
   },
   "outputs": [
    {
     "data": {
      "text/plain": [
       "array([[4032, 5, 3, 6, 5, 98, 3, 1, 2, 8, 5946, 0, 0.016482],\n",
       "       [7930, 2, 2, 4, 4, 97, 6, 1, 1, 4, 5801, 0, 0.016721],\n",
       "       [9784, 2, 3, 4, 3, 99, 6, 2, 1, 9, 5903, 0, 0.016771],\n",
       "       [7893, 1, 3, 6, 2, 99, 3, 1, 1, 8, 5872, 0, 0.01686],\n",
       "       [6769, 4, 3, 4, 1, 100, 6, 2, 1, 6, 5841, 0, 0.01712],\n",
       "       [8126, 5, 3, 3, 1, 102, 4, 2, 2, 4, 5936, 1, 0.017183],\n",
       "       [3612, 5, 3, 2, 1, 100, 3, 1, 1, 1, 5776, 1, 0.017313],\n",
       "       [4131, 1, 3, 6, 3, 100, 4, 1, 1, 3, 5756, 0, 0.017373],\n",
       "       [5146, 2, 3, 5, 4, 97, 6, 3, 1, 7, 5509, 1, 0.017608],\n",
       "       [3476, 5, 3, 6, 4, 100, 5, 1, 2, 7, 5668, 1, 0.017643],\n",
       "       [9486, 5, 3, 3, 5, 98, 3, 2, 2, 3, 5553, 1, 0.017648],\n",
       "       [9513, 1, 3, 4, 5, 102, 5, 1, 2, 3, 5767, 0, 0.017687],\n",
       "       [4831, 4, 3, 4, 4, 106, 2, 1, 1, 6, 5984, 0, 0.017714],\n",
       "       [6687, 1, 2, 4, 5, 105, 5, 3, 1, 4, 5824, 1, 0.018029],\n",
       "       [8144, 5, 3, 4, 3, 106, 2, 2, 2, 6, 5867, 0, 0.018067],\n",
       "       [10035, 1, 3, 4, 4, 102, 3, 3, 2, 9, 5644, 1, 0.018072],\n",
       "       [7239, 1, 2, 3, 3, 99, 5, 2, 1, 9, 5470, 0, 0.018099],\n",
       "       [8059, 4, 2, 3, 1, 101, 2, 2, 2, 1, 5560, 0, 0.018165],\n",
       "       [4535, 3, 1, 4, 5, 108, 10, 2, 2, 7, 5928, 1, 0.018219],\n",
       "       [5130, 5, 3, 2, 1, 108, 3, 1, 1, 4, 5924, 1, 0.018231],\n",
       "       [6752, 5, 3, 3, 5, 109, 2, 3, 1, 2, 5978, 1, 0.018234],\n",
       "       [7298, 5, 3, 5, 5, 104, 4, 3, 2, 9, 5652, 0, 0.018401],\n",
       "       [4159, 4, 3, 2, 4, 100, 4, 1, 1, 3, 5398, 0, 0.018525],\n",
       "       [7634, 5, 3, 4, 5, 111, 4, 2, 1, 7, 5988, 1, 0.018537],\n",
       "       [3755, 3, 3, 5, 1, 111, 4, 3, 2, 2, 5978, 1, 0.018568],\n",
       "       [199, 4, 3, 2, 3, 142, 3, 2, 2, 38, 7640, 1, 0.018586],\n",
       "       [8062, 2, 2, 4, 4, 104, 5, 1, 2, 7, 5590, 0, 0.018605],\n",
       "       [8686, 2, 3, 2, 4, 102, 4, 2, 2, 6, 5421, 0, 0.018816],\n",
       "       [9230, 5, 3, 3, 2, 113, 5, 2, 1, 1, 5993, 0, 0.018855],\n",
       "       [4112, 5, 1, 3, 5, 106, 2, 1, 2, 3, 5615, 0, 0.018878],\n",
       "       [7122, 5, 1, 4, 5, 98, 4, 1, 1, 5, 5188, 0, 0.01889]], dtype=object)"
      ]
     },
     "execution_count": 8,
     "metadata": {},
     "output_type": "execute_result"
    }
   ],
   "source": [
    "least_ratio_data"
   ]
  },
  {
   "cell_type": "markdown",
   "metadata": {
    "papermill": {
     "duration": null,
     "end_time": null,
     "exception": null,
     "start_time": null,
     "status": "pending"
    },
    "tags": []
   },
   "source": [
    "Pack the pre-computed data into a dict for easy access"
   ]
  },
  {
   "cell_type": "code",
   "execution_count": 9,
   "metadata": {
    "execution": {
     "iopub.execute_input": "2021-06-15T23:21:44.998503Z",
     "iopub.status.busy": "2021-06-15T23:21:44.997988Z",
     "iopub.status.idle": "2021-06-15T23:21:45.016718Z",
     "shell.execute_reply": "2021-06-15T23:21:45.015146Z",
     "shell.execute_reply.started": "2021-06-15T23:21:44.998453Z"
    },
    "papermill": {
     "duration": null,
     "end_time": null,
     "exception": null,
     "start_time": null,
     "status": "pending"
    },
    "tags": []
   },
   "outputs": [],
   "source": [
    "computed_data = {\n",
    "    'corr_matrix': corr_matrix,\n",
    "    'splits': splits,\n",
    "    'least_ratio_data': least_ratio_data\n",
    "}"
   ]
  },
  {
   "cell_type": "code",
   "execution_count": 10,
   "metadata": {
    "execution": {
     "iopub.execute_input": "2021-06-15T23:21:45.019625Z",
     "iopub.status.busy": "2021-06-15T23:21:45.019046Z",
     "iopub.status.idle": "2021-06-15T23:21:45.036696Z",
     "shell.execute_reply": "2021-06-15T23:21:45.035654Z",
     "shell.execute_reply.started": "2021-06-15T23:21:45.019574Z"
    },
    "papermill": {
     "duration": null,
     "end_time": null,
     "exception": null,
     "start_time": null,
     "status": "pending"
    },
    "tags": []
   },
   "outputs": [],
   "source": [
    "#Utility Functions\n",
    "def display_main_menu():\n",
    "    print('Main Menu')\n",
    "    print('1.\\tCompute Correlation')\n",
    "    print('2.\\tRanked List of 30 Largest Shipments (by warehouse block)')\n",
    "    print('3.\\tList of 30 Orders with Lowest Cost/Weight Ratios')\n",
    "    print('0.\\tExit\\n')\n",
    "    \n",
    "    option = int(input('Enter your option: '))\n",
    "    return option\n",
    "\n",
    "def display_dataset(data, titles):\n",
    "    print('\\n')\n",
    "    for title in titles:\n",
    "        print(title, end='  ')\n",
    "    print('\\n')\n",
    "    for row in data:\n",
    "        for col in row:\n",
    "            print(col, end='\\t')\n",
    "        print('\\n')\n",
    "\n",
    "#Functions for handling each individual option\n",
    "def find_correlation(corr_matrix):\n",
    "    print('\\nList of header names for correlation\\n\\n')\n",
    "    for ind, title in enumerate(titles):\n",
    "        print(ind, title)\n",
    "    x = int(input('\\nEnter the number for the first quantity:'))\n",
    "    y = int(input('Enter the number for the second quantity:'))\n",
    "    print('\\nThe correlation between', ind_to_title[x], 'and', ind_to_title[y], 'is', corr_matrix[x,y], '\\n')\n",
    "    \n",
    "\n",
    "def display_largest_shipments(splits):\n",
    "    block_number = int(input('\\nEnter the warehouse block number(1 to 5): '))\n",
    "    print('\\nList of 30 Largest Shipments by Weight for Warehouse Block', block_number)\n",
    "    #Retriving all the data for all the examples with given block number\n",
    "    block_data = data[splits[block_number]]\n",
    "    #Sorting the data in descending order according to weight\n",
    "    sorted_data = block_data[block_data[:, title_to_ind['Weight_in_gms']].argsort()[::-1]][:31]\n",
    "    display_dataset(sorted_data, titles)\n",
    "\n",
    "    \n",
    "def display_least_ratio(least_ratio_data):\n",
    "    print('\\nList of 30 Orders with Lowest Cost/Weight Ratio')\n",
    "    #print(least_ratio_data)\n",
    "    display_dataset(least_ratio_data, titles + ['Cost/Weight Ratio - in US$/g'])\n",
    "\n",
    "\n",
    "#Main Function for running the program\n",
    "def start_program(computed_data):\n",
    "    while(True):\n",
    "        option = display_main_menu()\n",
    "        if option==0:\n",
    "            print('Exiting now...')\n",
    "            break\n",
    "        elif option==1:\n",
    "            find_correlation(computed_data['corr_matrix'])\n",
    "        elif option==2:\n",
    "            display_largest_shipments(computed_data['splits'])\n",
    "        elif option==3:\n",
    "            display_least_ratio(computed_data['least_ratio_data'])\n",
    "        else:\n",
    "            print('Invalid option entered. Please try again')"
   ]
  },
  {
   "cell_type": "code",
   "execution_count": 11,
   "metadata": {
    "execution": {
     "iopub.execute_input": "2021-06-15T23:21:45.038844Z",
     "iopub.status.busy": "2021-06-15T23:21:45.038465Z",
     "iopub.status.idle": "2021-06-15T23:22:41.183602Z",
     "shell.execute_reply": "2021-06-15T23:22:41.182495Z",
     "shell.execute_reply.started": "2021-06-15T23:21:45.038809Z"
    },
    "papermill": {
     "duration": null,
     "end_time": null,
     "exception": null,
     "start_time": null,
     "status": "pending"
    },
    "tags": []
   },
   "outputs": [
    {
     "name": "stdout",
     "output_type": "stream",
     "text": [
      "Main Menu\n",
      "1.\tCompute Correlation\n",
      "2.\tRanked List of 30 Largest Shipments (by warehouse block)\n",
      "3.\tList of 30 Orders with Lowest Cost/Weight Ratios\n",
      "0.\tExit\n",
      "\n",
      "Enter your option: 1\n",
      "\n",
      "List of header names for correlation\n",
      "\n",
      "\n",
      "0 TransactionID\n",
      "1 Warehouse_block\n",
      "2 Mode_of_Shipment\n",
      "3 Customer_care_calls\n",
      "4 Customer_rating\n",
      "5 Cost_of_the_Product\n",
      "6 Prior_purchases\n",
      "7 Product_importance\n",
      "8 Gender\n",
      "9 Discount_offered_in_pct\n",
      "10 Weight_in_gms\n",
      "11 Reached_on_Time\n",
      "\n",
      "Enter the number for the first quantity:3\n",
      "Enter the number for the second quantity:6\n",
      "\n",
      "The correlation between Customer_care_calls and Prior_purchases is 0.181 \n",
      "\n",
      "Main Menu\n",
      "1.\tCompute Correlation\n",
      "2.\tRanked List of 30 Largest Shipments (by warehouse block)\n",
      "3.\tList of 30 Orders with Lowest Cost/Weight Ratios\n",
      "0.\tExit\n",
      "\n",
      "Enter your option: 2\n",
      "\n",
      "Enter the warehouse block number(1 to 5): 3\n",
      "\n",
      "List of 30 Largest Shipments by Weight for Warehouse Block 3\n",
      "\n",
      "\n",
      "TransactionID  Warehouse_block  Mode_of_Shipment  Customer_care_calls  Customer_rating  Cost_of_the_Product  Prior_purchases  Product_importance  Gender  Discount_offered_in_pct  Weight_in_gms  Reached_on_Time  \n",
      "\n",
      "245\t3\t3\t2\t1\t142\t3\t2\t2\t8\t6064\t1\t\n",
      "\n",
      "4685\t3\t3\t4\t3\t261\t3\t1\t2\t9\t5994\t1\t\n",
      "\n",
      "3719\t3\t3\t3\t5\t193\t3\t3\t2\t10\t5991\t1\t\n",
      "\n",
      "5747\t3\t2\t6\t5\t263\t7\t3\t1\t9\t5991\t1\t\n",
      "\n",
      "6413\t3\t2\t3\t2\t215\t2\t2\t1\t7\t5988\t1\t\n",
      "\n",
      "6449\t3\t1\t3\t4\t150\t2\t1\t2\t6\t5987\t0\t\n",
      "\n",
      "5009\t3\t3\t3\t2\t262\t7\t3\t1\t5\t5985\t1\t\n",
      "\n",
      "8111\t3\t3\t3\t5\t144\t2\t2\t1\t6\t5983\t0\t\n",
      "\n",
      "4751\t3\t3\t5\t4\t272\t2\t1\t2\t1\t5983\t1\t\n",
      "\n",
      "10535\t3\t2\t5\t1\t152\t3\t2\t2\t3\t5981\t0\t\n",
      "\n",
      "10607\t3\t3\t4\t4\t209\t3\t3\t2\t5\t5979\t0\t\n",
      "\n",
      "3755\t3\t3\t5\t1\t111\t4\t3\t2\t2\t5978\t1\t\n",
      "\n",
      "7037\t3\t3\t4\t2\t223\t3\t2\t2\t7\t5977\t0\t\n",
      "\n",
      "8201\t3\t2\t3\t3\t169\t3\t1\t2\t7\t5976\t0\t\n",
      "\n",
      "8729\t3\t3\t3\t4\t238\t2\t2\t1\t7\t5974\t0\t\n",
      "\n",
      "3683\t3\t2\t5\t5\t174\t3\t3\t2\t9\t5969\t1\t\n",
      "\n",
      "5075\t3\t1\t4\t5\t217\t4\t2\t2\t3\t5966\t0\t\n",
      "\n",
      "7307\t3\t3\t3\t2\t181\t3\t1\t1\t4\t5966\t1\t\n",
      "\n",
      "7055\t3\t3\t4\t2\t181\t3\t2\t1\t6\t5964\t0\t\n",
      "\n",
      "6107\t3\t3\t4\t2\t246\t3\t3\t1\t5\t5960\t0\t\n",
      "\n",
      "3701\t3\t1\t3\t4\t183\t3\t1\t2\t1\t5959\t1\t\n",
      "\n",
      "3137\t3\t2\t3\t3\t219\t3\t1\t1\t4\t5956\t0\t\n",
      "\n",
      "3233\t3\t3\t3\t3\t255\t2\t1\t1\t8\t5955\t1\t\n",
      "\n",
      "10493\t3\t3\t4\t1\t153\t3\t2\t1\t5\t5952\t0\t\n",
      "\n",
      "4499\t3\t2\t3\t4\t269\t2\t2\t1\t6\t5951\t0\t\n",
      "\n",
      "4157\t3\t3\t5\t2\t270\t3\t2\t2\t5\t5950\t1\t\n",
      "\n",
      "7523\t3\t2\t4\t3\t213\t3\t2\t1\t7\t5947\t0\t\n",
      "\n",
      "4067\t3\t3\t3\t5\t150\t2\t2\t1\t10\t5944\t0\t\n",
      "\n",
      "5345\t3\t1\t4\t3\t241\t2\t2\t2\t4\t5942\t1\t\n",
      "\n",
      "9341\t3\t3\t3\t2\t177\t3\t1\t2\t5\t5941\t0\t\n",
      "\n",
      "7301\t3\t3\t3\t4\t267\t2\t1\t1\t9\t5940\t0\t\n",
      "\n",
      "Main Menu\n",
      "1.\tCompute Correlation\n",
      "2.\tRanked List of 30 Largest Shipments (by warehouse block)\n",
      "3.\tList of 30 Orders with Lowest Cost/Weight Ratios\n",
      "0.\tExit\n",
      "\n",
      "Enter your option: 3\n",
      "\n",
      "List of 30 Orders with Lowest Cost/Weight Ratio\n",
      "\n",
      "\n",
      "TransactionID  Warehouse_block  Mode_of_Shipment  Customer_care_calls  Customer_rating  Cost_of_the_Product  Prior_purchases  Product_importance  Gender  Discount_offered_in_pct  Weight_in_gms  Reached_on_Time  Cost/Weight Ratio - in US$/g  \n",
      "\n",
      "4032\t5\t3\t6\t5\t98\t3\t1\t2\t8\t5946\t0\t0.016482\t\n",
      "\n",
      "7930\t2\t2\t4\t4\t97\t6\t1\t1\t4\t5801\t0\t0.016721\t\n",
      "\n",
      "9784\t2\t3\t4\t3\t99\t6\t2\t1\t9\t5903\t0\t0.016771\t\n",
      "\n",
      "7893\t1\t3\t6\t2\t99\t3\t1\t1\t8\t5872\t0\t0.01686\t\n",
      "\n",
      "6769\t4\t3\t4\t1\t100\t6\t2\t1\t6\t5841\t0\t0.01712\t\n",
      "\n",
      "8126\t5\t3\t3\t1\t102\t4\t2\t2\t4\t5936\t1\t0.017183\t\n",
      "\n",
      "3612\t5\t3\t2\t1\t100\t3\t1\t1\t1\t5776\t1\t0.017313\t\n",
      "\n",
      "4131\t1\t3\t6\t3\t100\t4\t1\t1\t3\t5756\t0\t0.017373\t\n",
      "\n",
      "5146\t2\t3\t5\t4\t97\t6\t3\t1\t7\t5509\t1\t0.017608\t\n",
      "\n",
      "3476\t5\t3\t6\t4\t100\t5\t1\t2\t7\t5668\t1\t0.017643\t\n",
      "\n",
      "9486\t5\t3\t3\t5\t98\t3\t2\t2\t3\t5553\t1\t0.017648\t\n",
      "\n",
      "9513\t1\t3\t4\t5\t102\t5\t1\t2\t3\t5767\t0\t0.017687\t\n",
      "\n",
      "4831\t4\t3\t4\t4\t106\t2\t1\t1\t6\t5984\t0\t0.017714\t\n",
      "\n",
      "6687\t1\t2\t4\t5\t105\t5\t3\t1\t4\t5824\t1\t0.018029\t\n",
      "\n",
      "8144\t5\t3\t4\t3\t106\t2\t2\t2\t6\t5867\t0\t0.018067\t\n",
      "\n",
      "10035\t1\t3\t4\t4\t102\t3\t3\t2\t9\t5644\t1\t0.018072\t\n",
      "\n",
      "7239\t1\t2\t3\t3\t99\t5\t2\t1\t9\t5470\t0\t0.018099\t\n",
      "\n",
      "8059\t4\t2\t3\t1\t101\t2\t2\t2\t1\t5560\t0\t0.018165\t\n",
      "\n",
      "4535\t3\t1\t4\t5\t108\t10\t2\t2\t7\t5928\t1\t0.018219\t\n",
      "\n",
      "5130\t5\t3\t2\t1\t108\t3\t1\t1\t4\t5924\t1\t0.018231\t\n",
      "\n",
      "6752\t5\t3\t3\t5\t109\t2\t3\t1\t2\t5978\t1\t0.018234\t\n",
      "\n",
      "7298\t5\t3\t5\t5\t104\t4\t3\t2\t9\t5652\t0\t0.018401\t\n",
      "\n",
      "4159\t4\t3\t2\t4\t100\t4\t1\t1\t3\t5398\t0\t0.018525\t\n",
      "\n",
      "7634\t5\t3\t4\t5\t111\t4\t2\t1\t7\t5988\t1\t0.018537\t\n",
      "\n",
      "3755\t3\t3\t5\t1\t111\t4\t3\t2\t2\t5978\t1\t0.018568\t\n",
      "\n",
      "199\t4\t3\t2\t3\t142\t3\t2\t2\t38\t7640\t1\t0.018586\t\n",
      "\n",
      "8062\t2\t2\t4\t4\t104\t5\t1\t2\t7\t5590\t0\t0.018605\t\n",
      "\n",
      "8686\t2\t3\t2\t4\t102\t4\t2\t2\t6\t5421\t0\t0.018816\t\n",
      "\n",
      "9230\t5\t3\t3\t2\t113\t5\t2\t1\t1\t5993\t0\t0.018855\t\n",
      "\n",
      "4112\t5\t1\t3\t5\t106\t2\t1\t2\t3\t5615\t0\t0.018878\t\n",
      "\n",
      "7122\t5\t1\t4\t5\t98\t4\t1\t1\t5\t5188\t0\t0.01889\t\n",
      "\n",
      "Main Menu\n",
      "1.\tCompute Correlation\n",
      "2.\tRanked List of 30 Largest Shipments (by warehouse block)\n",
      "3.\tList of 30 Orders with Lowest Cost/Weight Ratios\n",
      "0.\tExit\n",
      "\n",
      "Enter your option: 0\n",
      "Exiting now...\n"
     ]
    }
   ],
   "source": [
    "start_program(computed_data)"
   ]
  },
  {
   "cell_type": "code",
   "execution_count": null,
   "metadata": {
    "papermill": {
     "duration": null,
     "end_time": null,
     "exception": null,
     "start_time": null,
     "status": "pending"
    },
    "tags": []
   },
   "outputs": [],
   "source": [
    "#End of code"
   ]
  },
  {
   "cell_type": "markdown",
   "metadata": {
    "papermill": {
     "duration": null,
     "end_time": null,
     "exception": null,
     "start_time": null,
     "status": "pending"
    },
    "tags": []
   },
   "source": [
    "\n",
    "Written by Nikhil Bartwal\n",
    "\n",
    "Github: https://github.com/NikhilBartwal\n",
    "\n",
    "Thanks for reading!\n"
   ]
  }
 ],
 "metadata": {
  "kernelspec": {
   "display_name": "Python 3",
   "language": "python",
   "name": "python3"
  },
  "language_info": {
   "codemirror_mode": {
    "name": "ipython",
    "version": 3
   },
   "file_extension": ".py",
   "mimetype": "text/x-python",
   "name": "python",
   "nbconvert_exporter": "python",
   "pygments_lexer": "ipython3",
   "version": "3.7.3"
  },
  "papermill": {
   "default_parameters": {},
   "duration": null,
   "end_time": null,
   "environment_variables": {},
   "exception": null,
   "input_path": "__notebook__.ipynb",
   "output_path": "__notebook__.ipynb",
   "parameters": {},
   "start_time": "2021-06-15T23:24:15.919935",
   "version": "2.3.2"
  }
 },
 "nbformat": 4,
 "nbformat_minor": 5
}
